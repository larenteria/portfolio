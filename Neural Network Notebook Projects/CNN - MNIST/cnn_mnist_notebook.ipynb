{
 "cells": [
  {
   "cell_type": "markdown",
   "id": "f5cdf57f-8906-4697-977d-afa4c73435f2",
   "metadata": {},
   "source": [
    "## Convolutional NN ##"
   ]
  },
  {
   "cell_type": "code",
   "execution_count": 4,
   "id": "21192839-e38e-45b1-a590-b9268c529532",
   "metadata": {},
   "outputs": [],
   "source": [
    "import torch\n",
    "import torch.nn as nn \n",
    "\n",
    "# Library to traverse graph \n",
    "import torch.nn.functional as F \n",
    "import numpy as np\n",
    "import pandas as pd\n",
    "import matplotlib.pyplot as plt"
   ]
  },
  {
   "cell_type": "markdown",
   "id": "db9c349b-0cdf-4557-8854-8885b053342c",
   "metadata": {},
   "source": [
    "### Import Data ###"
   ]
  },
  {
   "cell_type": "code",
   "execution_count": 5,
   "id": "bc4689a5-e2c5-4995-975e-b3e398c399a8",
   "metadata": {},
   "outputs": [],
   "source": [
    "from torch.utils.data import DataLoader\n",
    "from torchvision import datasets, transforms\n",
    "from torchvision.utils import make_grid\n",
    "from sklearn.metrics import confusion_matrix"
   ]
  },
  {
   "cell_type": "code",
   "execution_count": 6,
   "id": "939a4c53-b39c-4a5e-9f5a-70e0008edd48",
   "metadata": {},
   "outputs": [],
   "source": [
    "# Convert MNIST Image Files into Tensor of 4-Dimensions (# of images, h, w, color channels)\n",
    "transform = transforms.ToTensor()"
   ]
  },
  {
   "cell_type": "code",
   "execution_count": 7,
   "id": "8a6f17ec-6724-4c80-8738-2cfb93937ac4",
   "metadata": {},
   "outputs": [],
   "source": [
    "# Train Data\n",
    "train_data = datasets.MNIST(root = \"\",train = True, download = True, transform = transform)"
   ]
  },
  {
   "cell_type": "code",
   "execution_count": 8,
   "id": "1b029dec-25d4-433d-a846-6d27da1b69f5",
   "metadata": {},
   "outputs": [],
   "source": [
    "test_data = datasets.MNIST(root = \"\", train = False, download = True, transform = transform)"
   ]
  },
  {
   "cell_type": "markdown",
   "id": "a6af8992-7402-4cf2-be23-f77f707a654d",
   "metadata": {},
   "source": [
    "### Convolution and Pooling Layers (BIG PICTURE AND IDEA) ###"
   ]
  },
  {
   "cell_type": "code",
   "execution_count": 10,
   "id": "2ee744cb-4a46-4fa7-b9e9-24a4fa9264a8",
   "metadata": {},
   "outputs": [],
   "source": [
    "# Create a small batch size for images (10 images)\n",
    "train_loader = DataLoader(train_data, batch_size = 10, shuffle=True)\n",
    "test_loader = DataLoader(test_data, batch_size = 10, shuffle=False)"
   ]
  },
  {
   "cell_type": "code",
   "execution_count": 10,
   "id": "fcff241e-c2f0-4818-8a0f-4cd8e219e5c5",
   "metadata": {},
   "outputs": [],
   "source": [
    "# Define our CNN Model\n",
    "    # Describe convolutional layer and what it is doing (Ex will have 2)\n",
    "conv1 = nn.Conv2d(1, 6, 3, 1) # input, output (filter), kernel size, stride length\n",
    "conv2 = nn.Conv2d(6, 16, 3, 1) # 6 & 16 are random here"
   ]
  },
  {
   "cell_type": "code",
   "execution_count": 11,
   "id": "5bdfc5f0-2009-40d0-9b5e-8a7b25f1f3a7",
   "metadata": {},
   "outputs": [],
   "source": [
    "# Grab 1 MNIST image/record\n",
    "for i, (X_train, y_train) in enumerate(train_data): \n",
    "    break"
   ]
  },
  {
   "cell_type": "code",
   "execution_count": 12,
   "id": "8c303535-4bd7-4028-a388-38460ce88ea8",
   "metadata": {},
   "outputs": [
    {
     "data": {
      "text/plain": [
       "tensor([[[0.0000, 0.0000, 0.0000, 0.0000, 0.0000, 0.0000, 0.0000, 0.0000,\n",
       "          0.0000, 0.0000, 0.0000, 0.0000, 0.0000, 0.0000, 0.0000, 0.0000,\n",
       "          0.0000, 0.0000, 0.0000, 0.0000, 0.0000, 0.0000, 0.0000, 0.0000,\n",
       "          0.0000, 0.0000, 0.0000, 0.0000],\n",
       "         [0.0000, 0.0000, 0.0000, 0.0000, 0.0000, 0.0000, 0.0000, 0.0000,\n",
       "          0.0000, 0.0000, 0.0000, 0.0000, 0.0000, 0.0000, 0.0000, 0.0000,\n",
       "          0.0000, 0.0000, 0.0000, 0.0000, 0.0000, 0.0000, 0.0000, 0.0000,\n",
       "          0.0000, 0.0000, 0.0000, 0.0000],\n",
       "         [0.0000, 0.0000, 0.0000, 0.0000, 0.0000, 0.0000, 0.0000, 0.0000,\n",
       "          0.0000, 0.0000, 0.0000, 0.0000, 0.0000, 0.0000, 0.0000, 0.0000,\n",
       "          0.0000, 0.0000, 0.0000, 0.0000, 0.0000, 0.0000, 0.0000, 0.0000,\n",
       "          0.0000, 0.0000, 0.0000, 0.0000],\n",
       "         [0.0000, 0.0000, 0.0000, 0.0000, 0.0000, 0.0000, 0.0000, 0.0000,\n",
       "          0.0000, 0.0000, 0.0000, 0.0000, 0.0000, 0.0000, 0.0000, 0.0000,\n",
       "          0.0000, 0.0000, 0.0000, 0.0000, 0.0000, 0.0000, 0.0000, 0.0000,\n",
       "          0.0000, 0.0000, 0.0000, 0.0000],\n",
       "         [0.0000, 0.0000, 0.0000, 0.0000, 0.0000, 0.0000, 0.0000, 0.0000,\n",
       "          0.0000, 0.0000, 0.0000, 0.0000, 0.0000, 0.0000, 0.0000, 0.0000,\n",
       "          0.0000, 0.0000, 0.0000, 0.0000, 0.0000, 0.0000, 0.0000, 0.0000,\n",
       "          0.0000, 0.0000, 0.0000, 0.0000],\n",
       "         [0.0000, 0.0000, 0.0000, 0.0000, 0.0000, 0.0000, 0.0000, 0.0000,\n",
       "          0.0000, 0.0000, 0.0000, 0.0000, 0.0118, 0.0706, 0.0706, 0.0706,\n",
       "          0.4941, 0.5333, 0.6863, 0.1020, 0.6510, 1.0000, 0.9686, 0.4980,\n",
       "          0.0000, 0.0000, 0.0000, 0.0000],\n",
       "         [0.0000, 0.0000, 0.0000, 0.0000, 0.0000, 0.0000, 0.0000, 0.0000,\n",
       "          0.1176, 0.1412, 0.3686, 0.6039, 0.6667, 0.9922, 0.9922, 0.9922,\n",
       "          0.9922, 0.9922, 0.8824, 0.6745, 0.9922, 0.9490, 0.7647, 0.2510,\n",
       "          0.0000, 0.0000, 0.0000, 0.0000],\n",
       "         [0.0000, 0.0000, 0.0000, 0.0000, 0.0000, 0.0000, 0.0000, 0.1922,\n",
       "          0.9333, 0.9922, 0.9922, 0.9922, 0.9922, 0.9922, 0.9922, 0.9922,\n",
       "          0.9922, 0.9843, 0.3647, 0.3216, 0.3216, 0.2196, 0.1529, 0.0000,\n",
       "          0.0000, 0.0000, 0.0000, 0.0000],\n",
       "         [0.0000, 0.0000, 0.0000, 0.0000, 0.0000, 0.0000, 0.0000, 0.0706,\n",
       "          0.8588, 0.9922, 0.9922, 0.9922, 0.9922, 0.9922, 0.7765, 0.7137,\n",
       "          0.9686, 0.9451, 0.0000, 0.0000, 0.0000, 0.0000, 0.0000, 0.0000,\n",
       "          0.0000, 0.0000, 0.0000, 0.0000],\n",
       "         [0.0000, 0.0000, 0.0000, 0.0000, 0.0000, 0.0000, 0.0000, 0.0000,\n",
       "          0.3137, 0.6118, 0.4196, 0.9922, 0.9922, 0.8039, 0.0431, 0.0000,\n",
       "          0.1686, 0.6039, 0.0000, 0.0000, 0.0000, 0.0000, 0.0000, 0.0000,\n",
       "          0.0000, 0.0000, 0.0000, 0.0000],\n",
       "         [0.0000, 0.0000, 0.0000, 0.0000, 0.0000, 0.0000, 0.0000, 0.0000,\n",
       "          0.0000, 0.0549, 0.0039, 0.6039, 0.9922, 0.3529, 0.0000, 0.0000,\n",
       "          0.0000, 0.0000, 0.0000, 0.0000, 0.0000, 0.0000, 0.0000, 0.0000,\n",
       "          0.0000, 0.0000, 0.0000, 0.0000],\n",
       "         [0.0000, 0.0000, 0.0000, 0.0000, 0.0000, 0.0000, 0.0000, 0.0000,\n",
       "          0.0000, 0.0000, 0.0000, 0.5451, 0.9922, 0.7451, 0.0078, 0.0000,\n",
       "          0.0000, 0.0000, 0.0000, 0.0000, 0.0000, 0.0000, 0.0000, 0.0000,\n",
       "          0.0000, 0.0000, 0.0000, 0.0000],\n",
       "         [0.0000, 0.0000, 0.0000, 0.0000, 0.0000, 0.0000, 0.0000, 0.0000,\n",
       "          0.0000, 0.0000, 0.0000, 0.0431, 0.7451, 0.9922, 0.2745, 0.0000,\n",
       "          0.0000, 0.0000, 0.0000, 0.0000, 0.0000, 0.0000, 0.0000, 0.0000,\n",
       "          0.0000, 0.0000, 0.0000, 0.0000],\n",
       "         [0.0000, 0.0000, 0.0000, 0.0000, 0.0000, 0.0000, 0.0000, 0.0000,\n",
       "          0.0000, 0.0000, 0.0000, 0.0000, 0.1373, 0.9451, 0.8824, 0.6275,\n",
       "          0.4235, 0.0039, 0.0000, 0.0000, 0.0000, 0.0000, 0.0000, 0.0000,\n",
       "          0.0000, 0.0000, 0.0000, 0.0000],\n",
       "         [0.0000, 0.0000, 0.0000, 0.0000, 0.0000, 0.0000, 0.0000, 0.0000,\n",
       "          0.0000, 0.0000, 0.0000, 0.0000, 0.0000, 0.3176, 0.9412, 0.9922,\n",
       "          0.9922, 0.4667, 0.0980, 0.0000, 0.0000, 0.0000, 0.0000, 0.0000,\n",
       "          0.0000, 0.0000, 0.0000, 0.0000],\n",
       "         [0.0000, 0.0000, 0.0000, 0.0000, 0.0000, 0.0000, 0.0000, 0.0000,\n",
       "          0.0000, 0.0000, 0.0000, 0.0000, 0.0000, 0.0000, 0.1765, 0.7294,\n",
       "          0.9922, 0.9922, 0.5882, 0.1059, 0.0000, 0.0000, 0.0000, 0.0000,\n",
       "          0.0000, 0.0000, 0.0000, 0.0000],\n",
       "         [0.0000, 0.0000, 0.0000, 0.0000, 0.0000, 0.0000, 0.0000, 0.0000,\n",
       "          0.0000, 0.0000, 0.0000, 0.0000, 0.0000, 0.0000, 0.0000, 0.0627,\n",
       "          0.3647, 0.9882, 0.9922, 0.7333, 0.0000, 0.0000, 0.0000, 0.0000,\n",
       "          0.0000, 0.0000, 0.0000, 0.0000],\n",
       "         [0.0000, 0.0000, 0.0000, 0.0000, 0.0000, 0.0000, 0.0000, 0.0000,\n",
       "          0.0000, 0.0000, 0.0000, 0.0000, 0.0000, 0.0000, 0.0000, 0.0000,\n",
       "          0.0000, 0.9765, 0.9922, 0.9765, 0.2510, 0.0000, 0.0000, 0.0000,\n",
       "          0.0000, 0.0000, 0.0000, 0.0000],\n",
       "         [0.0000, 0.0000, 0.0000, 0.0000, 0.0000, 0.0000, 0.0000, 0.0000,\n",
       "          0.0000, 0.0000, 0.0000, 0.0000, 0.0000, 0.0000, 0.1804, 0.5098,\n",
       "          0.7176, 0.9922, 0.9922, 0.8118, 0.0078, 0.0000, 0.0000, 0.0000,\n",
       "          0.0000, 0.0000, 0.0000, 0.0000],\n",
       "         [0.0000, 0.0000, 0.0000, 0.0000, 0.0000, 0.0000, 0.0000, 0.0000,\n",
       "          0.0000, 0.0000, 0.0000, 0.0000, 0.1529, 0.5804, 0.8980, 0.9922,\n",
       "          0.9922, 0.9922, 0.9804, 0.7137, 0.0000, 0.0000, 0.0000, 0.0000,\n",
       "          0.0000, 0.0000, 0.0000, 0.0000],\n",
       "         [0.0000, 0.0000, 0.0000, 0.0000, 0.0000, 0.0000, 0.0000, 0.0000,\n",
       "          0.0000, 0.0000, 0.0941, 0.4471, 0.8667, 0.9922, 0.9922, 0.9922,\n",
       "          0.9922, 0.7882, 0.3059, 0.0000, 0.0000, 0.0000, 0.0000, 0.0000,\n",
       "          0.0000, 0.0000, 0.0000, 0.0000],\n",
       "         [0.0000, 0.0000, 0.0000, 0.0000, 0.0000, 0.0000, 0.0000, 0.0000,\n",
       "          0.0902, 0.2588, 0.8353, 0.9922, 0.9922, 0.9922, 0.9922, 0.7765,\n",
       "          0.3176, 0.0078, 0.0000, 0.0000, 0.0000, 0.0000, 0.0000, 0.0000,\n",
       "          0.0000, 0.0000, 0.0000, 0.0000],\n",
       "         [0.0000, 0.0000, 0.0000, 0.0000, 0.0000, 0.0000, 0.0706, 0.6706,\n",
       "          0.8588, 0.9922, 0.9922, 0.9922, 0.9922, 0.7647, 0.3137, 0.0353,\n",
       "          0.0000, 0.0000, 0.0000, 0.0000, 0.0000, 0.0000, 0.0000, 0.0000,\n",
       "          0.0000, 0.0000, 0.0000, 0.0000],\n",
       "         [0.0000, 0.0000, 0.0000, 0.0000, 0.2157, 0.6745, 0.8863, 0.9922,\n",
       "          0.9922, 0.9922, 0.9922, 0.9569, 0.5216, 0.0431, 0.0000, 0.0000,\n",
       "          0.0000, 0.0000, 0.0000, 0.0000, 0.0000, 0.0000, 0.0000, 0.0000,\n",
       "          0.0000, 0.0000, 0.0000, 0.0000],\n",
       "         [0.0000, 0.0000, 0.0000, 0.0000, 0.5333, 0.9922, 0.9922, 0.9922,\n",
       "          0.8314, 0.5294, 0.5176, 0.0627, 0.0000, 0.0000, 0.0000, 0.0000,\n",
       "          0.0000, 0.0000, 0.0000, 0.0000, 0.0000, 0.0000, 0.0000, 0.0000,\n",
       "          0.0000, 0.0000, 0.0000, 0.0000],\n",
       "         [0.0000, 0.0000, 0.0000, 0.0000, 0.0000, 0.0000, 0.0000, 0.0000,\n",
       "          0.0000, 0.0000, 0.0000, 0.0000, 0.0000, 0.0000, 0.0000, 0.0000,\n",
       "          0.0000, 0.0000, 0.0000, 0.0000, 0.0000, 0.0000, 0.0000, 0.0000,\n",
       "          0.0000, 0.0000, 0.0000, 0.0000],\n",
       "         [0.0000, 0.0000, 0.0000, 0.0000, 0.0000, 0.0000, 0.0000, 0.0000,\n",
       "          0.0000, 0.0000, 0.0000, 0.0000, 0.0000, 0.0000, 0.0000, 0.0000,\n",
       "          0.0000, 0.0000, 0.0000, 0.0000, 0.0000, 0.0000, 0.0000, 0.0000,\n",
       "          0.0000, 0.0000, 0.0000, 0.0000],\n",
       "         [0.0000, 0.0000, 0.0000, 0.0000, 0.0000, 0.0000, 0.0000, 0.0000,\n",
       "          0.0000, 0.0000, 0.0000, 0.0000, 0.0000, 0.0000, 0.0000, 0.0000,\n",
       "          0.0000, 0.0000, 0.0000, 0.0000, 0.0000, 0.0000, 0.0000, 0.0000,\n",
       "          0.0000, 0.0000, 0.0000, 0.0000]]])"
      ]
     },
     "execution_count": 12,
     "metadata": {},
     "output_type": "execute_result"
    }
   ],
   "source": [
    "X_train"
   ]
  },
  {
   "cell_type": "code",
   "execution_count": 13,
   "id": "26fa359a-f513-40de-8ad9-3015639296a2",
   "metadata": {},
   "outputs": [],
   "source": [
    "x = X_train.view(1, 1, 28,28) # one batch, 1 image, w, h  - before it was only 1,28,28 or one image, w, h"
   ]
  },
  {
   "cell_type": "code",
   "execution_count": 14,
   "id": "3cc810df-1967-4d29-87f5-1bd27d4a0091",
   "metadata": {},
   "outputs": [],
   "source": [
    "# Perform our first convolution\n",
    "x = F.relu(conv1(x)) # Activation F(x)"
   ]
  },
  {
   "cell_type": "code",
   "execution_count": 15,
   "id": "29b0a5b4-958e-4638-a9b8-c916c521e9e3",
   "metadata": {},
   "outputs": [
    {
     "data": {
      "text/plain": [
       "torch.Size([1, 6, 26, 26])"
      ]
     },
     "execution_count": 15,
     "metadata": {},
     "output_type": "execute_result"
    }
   ],
   "source": [
    "# Post convolution\n",
    "\"\"\"\n",
    "1. Single image\n",
    "2. 6 is the filters\n",
    "3. width height, in this case sinse the outside of our images are black, it shrinks it, set padding if you dont want this to happen. \n",
    "    Also, recall convolution gets rid of 2 sides in a 3x3 matrix\n",
    "\"\"\"\n",
    "x.shape # torch.Size([1, 6, 26, 26])"
   ]
  },
  {
   "cell_type": "code",
   "execution_count": 16,
   "id": "55b31dc1-b728-4745-bbf9-7879411462fa",
   "metadata": {},
   "outputs": [],
   "source": [
    "# Pass through the pooling layer\n",
    "x = F.max_pool2d(x, 2,2) # Kernal of 2 and stride of 2"
   ]
  },
  {
   "cell_type": "code",
   "execution_count": 17,
   "id": "6039f050-3148-44e6-87d6-ef47bdf7f714",
   "metadata": {},
   "outputs": [
    {
     "data": {
      "text/plain": [
       "torch.Size([1, 6, 13, 13])"
      ]
     },
     "execution_count": 17,
     "metadata": {},
     "output_type": "execute_result"
    }
   ],
   "source": [
    "x.shape #torch.Size([1, 6, 13, 13]) --> IT HAS CUT DOWN THE IMAGE! "
   ]
  },
  {
   "cell_type": "code",
   "execution_count": 18,
   "id": "ef28b9d5-b6c9-468c-a44b-9380fee14508",
   "metadata": {},
   "outputs": [],
   "source": [
    "# Now do the second convolutional layer\n",
    "x = F.relu(conv2(x))"
   ]
  },
  {
   "cell_type": "code",
   "execution_count": 19,
   "id": "2445f455-a522-4b38-8e40-84754cd600c8",
   "metadata": {},
   "outputs": [
    {
     "data": {
      "text/plain": [
       "torch.Size([1, 16, 11, 11])"
      ]
     },
     "execution_count": 19,
     "metadata": {},
     "output_type": "execute_result"
    }
   ],
   "source": [
    "x.shape # torch.Size([1, 16, 11, 11]) --> got rid of 2!!! no padding remember convolution gets the outside off by 2 with 3x3"
   ]
  },
  {
   "cell_type": "code",
   "execution_count": 20,
   "id": "6fa1137e-c908-41a6-9dc7-0ff441f0f88e",
   "metadata": {},
   "outputs": [],
   "source": [
    "# Pooling layer\n",
    "x = F.max_pool2d(x, 2, 2)"
   ]
  },
  {
   "cell_type": "code",
   "execution_count": 21,
   "id": "9a19d9eb-8151-4611-9638-dca4272912a5",
   "metadata": {},
   "outputs": [
    {
     "data": {
      "text/plain": [
       "torch.Size([1, 16, 5, 5])"
      ]
     },
     "execution_count": 21,
     "metadata": {},
     "output_type": "execute_result"
    }
   ],
   "source": [
    "x.shape # torch.Size([1, 16, 5, 5])"
   ]
  },
  {
   "cell_type": "markdown",
   "id": "8e48944a-33b3-412c-9904-089d17a87912",
   "metadata": {},
   "source": [
    "### Creating the Model! ###"
   ]
  },
  {
   "cell_type": "code",
   "execution_count": 22,
   "id": "f1baa415-0f63-4ea1-8b46-c9e33b0bb5a3",
   "metadata": {},
   "outputs": [],
   "source": [
    "class ConvolutionalNetwork(nn.Module):\n",
    "    def __init__(self): \n",
    "        super().__init__()\n",
    "        self.conv1 = nn.Conv2d(1, 6, 3, 1)\n",
    "        self.conv2 = nn.Conv2d(6, 16, 3, 1)\n",
    "        \n",
    "        # Fully Connected Layers (Ex 3!)\n",
    "        self.fc1 = nn.Linear(5*5*16, 120) # In features, the pizes filter, w, h and outfeatures, 120 arbitrary\n",
    "        self.fc2 = nn.Linear(120, 84)\n",
    "        self.fc3 = nn.Linear(84, 10) # Neurons at random except for final # 10 as there are ten numbers\n",
    "\n",
    "    def forward(self, x):\n",
    "        x = F.relu(self.conv1(x))\n",
    "        x = F.max_pool2d(x, 2, 2) # 2x2 kernal and stride 2\n",
    "\n",
    "        # Second pass\n",
    "        x = F.relu(self.conv2(x))\n",
    "        x = F.max_pool2d(x, 2, 2)\n",
    "\n",
    "        # Review to flatten it out\n",
    "        x = x.view(-1, 16*5*5) # negative -1 so that we can vary the batch size\n",
    "\n",
    "        # Fully Connected Layers \n",
    "        x = F.relu(self.fc1(x))\n",
    "        x = F.relu(self.fc2(x))\n",
    "        x = self.fc3(x)\n",
    "\n",
    "        return F.log_softmax(x, dim=1)"
   ]
  },
  {
   "cell_type": "code",
   "execution_count": 23,
   "id": "7f9efe03-85d6-4919-976e-3ba46b588979",
   "metadata": {},
   "outputs": [
    {
     "data": {
      "text/plain": [
       "ConvolutionalNetwork(\n",
       "  (conv1): Conv2d(1, 6, kernel_size=(3, 3), stride=(1, 1))\n",
       "  (conv2): Conv2d(6, 16, kernel_size=(3, 3), stride=(1, 1))\n",
       "  (fc1): Linear(in_features=400, out_features=120, bias=True)\n",
       "  (fc2): Linear(in_features=120, out_features=84, bias=True)\n",
       "  (fc3): Linear(in_features=84, out_features=10, bias=True)\n",
       ")"
      ]
     },
     "execution_count": 23,
     "metadata": {},
     "output_type": "execute_result"
    }
   ],
   "source": [
    "# Create an instance \n",
    "torch.manual_seed(41)\n",
    "\n",
    "model = ConvolutionalNetwork()\n",
    "model"
   ]
  },
  {
   "cell_type": "code",
   "execution_count": 24,
   "id": "ff907ea0-37e1-4fa5-bef3-f14c27c87698",
   "metadata": {},
   "outputs": [],
   "source": [
    "# Loss Function Optimizer\n",
    "\n",
    "criterion = nn.CrossEntropyLoss()\n",
    "\n",
    "optimizer = torch.optim.Adam(model.parameters(), lr = 0.001)"
   ]
  },
  {
   "cell_type": "markdown",
   "id": "e1064129-1c4a-4a5a-acc3-cfe689768931",
   "metadata": {},
   "source": [
    "### Train it and Test it! ###"
   ]
  },
  {
   "cell_type": "code",
   "execution_count": 25,
   "id": "c2adf872-f931-4da1-bd85-3e01baf6e260",
   "metadata": {},
   "outputs": [
    {
     "name": "stdout",
     "output_type": "stream",
     "text": [
      "Epoch: 0\n",
      "Batch: 600\n",
      "Loss: 0.16236090660095215\n",
      "-------------------------------\n",
      "Epoch: 0\n",
      "Batch: 1200\n",
      "Loss: 0.1614551544189453\n",
      "-------------------------------\n",
      "Epoch: 0\n",
      "Batch: 1800\n",
      "Loss: 0.5041669607162476\n",
      "-------------------------------\n",
      "Epoch: 0\n",
      "Batch: 2400\n",
      "Loss: 0.10426308214664459\n",
      "-------------------------------\n",
      "Epoch: 0\n",
      "Batch: 3000\n",
      "Loss: 0.007077544927597046\n",
      "-------------------------------\n",
      "Epoch: 0\n",
      "Batch: 3600\n",
      "Loss: 0.3652905821800232\n",
      "-------------------------------\n",
      "Epoch: 0\n",
      "Batch: 4200\n",
      "Loss: 0.0037760832346975803\n",
      "-------------------------------\n",
      "Epoch: 0\n",
      "Batch: 4800\n",
      "Loss: 0.0013758999994024634\n",
      "-------------------------------\n",
      "Epoch: 0\n",
      "Batch: 5400\n",
      "Loss: 0.04505983740091324\n",
      "-------------------------------\n",
      "Epoch: 0\n",
      "Batch: 6000\n",
      "Loss: 0.0005676982691511512\n",
      "-------------------------------\n",
      "Epoch: 1\n",
      "Batch: 600\n",
      "Loss: 0.0040985336527228355\n",
      "-------------------------------\n",
      "Epoch: 1\n",
      "Batch: 1200\n",
      "Loss: 0.26344460248947144\n",
      "-------------------------------\n",
      "Epoch: 1\n",
      "Batch: 1800\n",
      "Loss: 0.0015710301231592894\n",
      "-------------------------------\n",
      "Epoch: 1\n",
      "Batch: 2400\n",
      "Loss: 0.002920893719419837\n",
      "-------------------------------\n",
      "Epoch: 1\n",
      "Batch: 3000\n",
      "Loss: 0.025759723037481308\n",
      "-------------------------------\n",
      "Epoch: 1\n",
      "Batch: 3600\n",
      "Loss: 0.5109620094299316\n",
      "-------------------------------\n",
      "Epoch: 1\n",
      "Batch: 4200\n",
      "Loss: 0.03832785040140152\n",
      "-------------------------------\n",
      "Epoch: 1\n",
      "Batch: 4800\n",
      "Loss: 0.0004107930581085384\n",
      "-------------------------------\n",
      "Epoch: 1\n",
      "Batch: 5400\n",
      "Loss: 0.00042201072210446\n",
      "-------------------------------\n",
      "Epoch: 1\n",
      "Batch: 6000\n",
      "Loss: 0.4828798770904541\n",
      "-------------------------------\n",
      "Epoch: 2\n",
      "Batch: 600\n",
      "Loss: 0.05119292065501213\n",
      "-------------------------------\n",
      "Epoch: 2\n",
      "Batch: 1200\n",
      "Loss: 0.0038511897437274456\n",
      "-------------------------------\n",
      "Epoch: 2\n",
      "Batch: 1800\n",
      "Loss: 0.0014970828779041767\n",
      "-------------------------------\n",
      "Epoch: 2\n",
      "Batch: 2400\n",
      "Loss: 0.004896306432783604\n",
      "-------------------------------\n",
      "Epoch: 2\n",
      "Batch: 3000\n",
      "Loss: 0.008256791159510612\n",
      "-------------------------------\n",
      "Epoch: 2\n",
      "Batch: 3600\n",
      "Loss: 0.0004542603564914316\n",
      "-------------------------------\n",
      "Epoch: 2\n",
      "Batch: 4200\n",
      "Loss: 0.26317352056503296\n",
      "-------------------------------\n",
      "Epoch: 2\n",
      "Batch: 4800\n",
      "Loss: 0.001537359319627285\n",
      "-------------------------------\n",
      "Epoch: 2\n",
      "Batch: 5400\n",
      "Loss: 0.006470398046076298\n",
      "-------------------------------\n",
      "Epoch: 2\n",
      "Batch: 6000\n",
      "Loss: 0.1095944419503212\n",
      "-------------------------------\n",
      "Epoch: 3\n",
      "Batch: 600\n",
      "Loss: 0.03505117446184158\n",
      "-------------------------------\n",
      "Epoch: 3\n",
      "Batch: 1200\n",
      "Loss: 0.001770398230291903\n",
      "-------------------------------\n",
      "Epoch: 3\n",
      "Batch: 1800\n",
      "Loss: 0.005633163265883923\n",
      "-------------------------------\n",
      "Epoch: 3\n",
      "Batch: 2400\n",
      "Loss: 1.2385697118588723e-05\n",
      "-------------------------------\n",
      "Epoch: 3\n",
      "Batch: 3000\n",
      "Loss: 0.0020400488283485174\n",
      "-------------------------------\n",
      "Epoch: 3\n",
      "Batch: 3600\n",
      "Loss: 0.00025755190290510654\n",
      "-------------------------------\n",
      "Epoch: 3\n",
      "Batch: 4200\n",
      "Loss: 0.011785751208662987\n",
      "-------------------------------\n",
      "Epoch: 3\n",
      "Batch: 4800\n",
      "Loss: 2.1826495867571793e-05\n",
      "-------------------------------\n",
      "Epoch: 3\n",
      "Batch: 5400\n",
      "Loss: 0.0542694516479969\n",
      "-------------------------------\n",
      "Epoch: 3\n",
      "Batch: 6000\n",
      "Loss: 0.017493976280093193\n",
      "-------------------------------\n",
      "Epoch: 4\n",
      "Batch: 600\n",
      "Loss: 0.00170081143733114\n",
      "-------------------------------\n",
      "Epoch: 4\n",
      "Batch: 1200\n",
      "Loss: 0.08627621829509735\n",
      "-------------------------------\n",
      "Epoch: 4\n",
      "Batch: 1800\n",
      "Loss: 0.34209710359573364\n",
      "-------------------------------\n",
      "Epoch: 4\n",
      "Batch: 2400\n",
      "Loss: 0.00012794588110409677\n",
      "-------------------------------\n",
      "Epoch: 4\n",
      "Batch: 3000\n",
      "Loss: 0.0014115956146270037\n",
      "-------------------------------\n",
      "Epoch: 4\n",
      "Batch: 3600\n",
      "Loss: 0.47453540563583374\n",
      "-------------------------------\n",
      "Epoch: 4\n",
      "Batch: 4200\n",
      "Loss: 0.0017075622454285622\n",
      "-------------------------------\n",
      "Epoch: 4\n",
      "Batch: 4800\n",
      "Loss: 0.0002860472886823118\n",
      "-------------------------------\n",
      "Epoch: 4\n",
      "Batch: 5400\n",
      "Loss: 0.018258752301335335\n",
      "-------------------------------\n",
      "Epoch: 4\n",
      "Batch: 6000\n",
      "Loss: 0.0014418931677937508\n",
      "-------------------------------\n",
      "Train Time: 0.4939632813135783 minutes\n"
     ]
    }
   ],
   "source": [
    "# Lets keep track of time! \n",
    "import time\n",
    "start_time = time.time()\n",
    "\n",
    "# Create Vars to track \n",
    "epochs = 5\n",
    "train_losses = []\n",
    "test_losses = []\n",
    "train_correct = []\n",
    "test_correct = []\n",
    "\n",
    "\n",
    "# For loop of Epochs\n",
    "for i in range(epochs): \n",
    "\n",
    "    trn_corr = 0\n",
    "    tst_corr = 0\n",
    "    \n",
    "    # Train\n",
    "    for b, (X_train, y_train) in enumerate(train_loader):\n",
    "        b += 1 #start our batches at 1\n",
    "        y_pred = model(X_train)\n",
    "        loss = criterion(y_pred, y_train)\n",
    "\n",
    "        predicted = torch.max(y_pred.data, 1)[1] # Add up the number of correct predictions, Indexed off the first point\n",
    "        batch_corr = (predicted == y_train).sum() # How many we got correct \n",
    "        trn_corr += batch_corr # keep track as we go along\n",
    "        \n",
    "        # update params and print results \n",
    "        optimizer.zero_grad()\n",
    "        loss.backward()\n",
    "        optimizer.step()\n",
    "        \n",
    "        if b % 600 == 0: \n",
    "            print(f\"Epoch: {i}\")\n",
    "            print(f\"Batch: {b}\")\n",
    "            print(f\"Loss: {loss.item()}\")\n",
    "            print(\"-------------------------------\")\n",
    "\n",
    "    train_losses.append(loss)\n",
    "    train_correct.append(trn_corr)\n",
    "\n",
    "    # Test! \n",
    "    with torch.no_grad(): # No gradient so we don't update our weights and biases with test data\n",
    "        for b, (X_test, y_test) in enumerate(test_loader): \n",
    "            y_val = model(X_test)\n",
    "            predicted = torch.max(y_val, 1)[1]\n",
    "            tst_corr += (predicted == y_test).sum()\n",
    "\n",
    "        loss = criterion(y_val, y_test)\n",
    "        test_losses.append(loss)\n",
    "        test_correct.append(tst_corr)\n",
    "\n",
    "\n",
    "\n",
    "\n",
    "\n",
    "current_time = time.time()\n",
    "total_time = current_time - start_time\n",
    "\n",
    "print(f\"Train Time: {total_time/60} minutes\")"
   ]
  },
  {
   "cell_type": "markdown",
   "id": "850ba446-c447-45be-8cae-9a55a4ba3d6d",
   "metadata": {},
   "source": [
    "### Graph it! ###"
   ]
  },
  {
   "cell_type": "code",
   "execution_count": 26,
   "id": "03febeec-c0b4-40bb-a2d6-eaeb0b8de28e",
   "metadata": {},
   "outputs": [
    {
     "data": {
      "image/png": "[encoded data removed]",
      "text/plain": [
       "<Figure size 640x480 with 1 Axes>"
      ]
     },
     "metadata": {},
     "output_type": "display_data"
    }
   ],
   "source": [
    "train_losses = [tl.item() for tl in train_losses]\n",
    "plt.plot(train_losses, label = \"Training Loss\")\n",
    "plt.plot(test_losses, label = \"Validation Loss\")\n",
    "plt.title(\"Loss at Epoch\")\n",
    "plt.legend()\n",
    "plt.show()"
   ]
  },
  {
   "cell_type": "code",
   "execution_count": 27,
   "id": "41077752-b07e-41b2-8256-30c45efeafd4",
   "metadata": {},
   "outputs": [
    {
     "data": {
      "text/plain": [
       "[<matplotlib.lines.Line2D at 0x17147b520>]"
      ]
     },
     "execution_count": 27,
     "metadata": {},
     "output_type": "execute_result"
    },
    {
     "data": {
      "image/png": "[encoded data removed]",
      "text/plain": [
       "<Figure size 640x480 with 1 Axes>"
      ]
     },
     "metadata": {},
     "output_type": "display_data"
    }
   ],
   "source": [
    "plt.plot([t/600 for t in train_correct], label = \"Training Accuracy\")\n",
    "plt.plot([t/100 for t in test_correct], label = \"Validation Accuracy\")"
   ]
  }
 ],
 "metadata": {
  "kernelspec": {
   "display_name": "Python 3 (ipykernel)",
   "language": "python",
   "name": "python3"
  },
  "language_info": {
   "codemirror_mode": {
    "name": "ipython",
    "version": 3
   },
   "file_extension": ".py",
   "mimetype": "text/x-python",
   "name": "python",
   "nbconvert_exporter": "python",
   "pygments_lexer": "ipython3",
   "version": "3.9.6"
  }
 },
 "nbformat": 4,
 "nbformat_minor": 5
}
